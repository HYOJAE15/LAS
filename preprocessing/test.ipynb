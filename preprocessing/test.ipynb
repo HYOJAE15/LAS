{
 "cells": [
  {
   "cell_type": "code",
   "execution_count": 1,
   "metadata": {},
   "outputs": [
    {
     "name": "stderr",
     "output_type": "stream",
     "text": [
      "<frozen importlib._bootstrap>:219: RuntimeWarning: scipy._lib.messagestream.MessageStream size changed, may indicate binary incompatibility. Expected 56 from C header, got 64 from PyObject\n"
     ]
    }
   ],
   "source": [
    "import cv2\n",
    "import numpy as np\n",
    "from skimage.measure import label, regionprops"
   ]
  },
  {
   "cell_type": "code",
   "execution_count": 38,
   "metadata": {},
   "outputs": [],
   "source": [
    "gt_img_path = \"Z:/05. Data/02. Training&Test/013. General Concrete Damage/01. Cityscapes/v0.1.3/gtFine/train/200205_sj_0066_gtFine_labelIds.png\""
   ]
  },
  {
   "cell_type": "code",
   "execution_count": 39,
   "metadata": {},
   "outputs": [],
   "source": [
    "test_img = cv2.imread(gt_img_path, cv2.IMREAD_UNCHANGED)"
   ]
  },
  {
   "cell_type": "code",
   "execution_count": 23,
   "metadata": {},
   "outputs": [],
   "source": [
    "test_img = cv2.imread(\"Z:/05. Data/02. Training&Test/013. General Concrete Damage/01. Cityscapes/v0.1.3/gtFine/train/200206_2_k3__gtFine_labelIds.png\", cv2.IMREAD_UNCHANGED)"
   ]
  },
  {
   "cell_type": "code",
   "execution_count": 43,
   "metadata": {},
   "outputs": [],
   "source": [
    "gt_label = label(test_img == 4)\n",
    "props = regionprops(gt_label)\n"
   ]
  },
  {
   "cell_type": "code",
   "execution_count": 44,
   "metadata": {},
   "outputs": [
    {
     "name": "stdout",
     "output_type": "stream",
     "text": [
      "[0 1]\n"
     ]
    }
   ],
   "source": [
    "print(np.unique(gt_label))"
   ]
  },
  {
   "cell_type": "code",
   "execution_count": 46,
   "metadata": {},
   "outputs": [
    {
     "name": "stdout",
     "output_type": "stream",
     "text": [
      "1\n"
     ]
    }
   ],
   "source": [
    "print(np.max(gt_label))"
   ]
  },
  {
   "cell_type": "code",
   "execution_count": 47,
   "metadata": {},
   "outputs": [
    {
     "name": "stdout",
     "output_type": "stream",
     "text": [
      "[<skimage.measure._regionprops.RegionProperties object at 0x000001C71647A4C0>]\n"
     ]
    }
   ],
   "source": [
    "print(props)"
   ]
  },
  {
   "cell_type": "code",
   "execution_count": 48,
   "metadata": {},
   "outputs": [],
   "source": [
    "window_size = 256 \n",
    "overlap = 0.5"
   ]
  },
  {
   "cell_type": "code",
   "execution_count": 51,
   "metadata": {},
   "outputs": [
    {
     "name": "stdout",
     "output_type": "stream",
     "text": [
      "min, max: 52, 480, 747, 660,\n",
      "num_grid_x, y: 2, 6\n",
      "num_grid_x, y_af: 1, 6\n",
      "grid_x: [480], grid_y: [ 52 167 283 399 515 631]\n"
     ]
    },
    {
     "name": "stderr",
     "output_type": "stream",
     "text": [
      "C:\\Users\\tls15\\AppData\\Local\\Temp\\ipykernel_23600\\2014547602.py:27: DeprecationWarning: `np.int` is a deprecated alias for the builtin `int`. To silence this warning, use `int` by itself. Doing this will not modify any behavior and is safe. When replacing `np.int`, you may wish to use e.g. `np.int64` or `np.int32` to specify the precision. If you wish to review your current use, check the release note link for additional information.\n",
      "Deprecated in NumPy 1.20; for more details and guidance: https://numpy.org/devdocs/release/1.20.0-notes.html#deprecations\n",
      "  grid_x = np.linspace(minc, maxc, num_grid_x, dtype=np.int, endpoint=False)\n",
      "C:\\Users\\tls15\\AppData\\Local\\Temp\\ipykernel_23600\\2014547602.py:28: DeprecationWarning: `np.int` is a deprecated alias for the builtin `int`. To silence this warning, use `int` by itself. Doing this will not modify any behavior and is safe. When replacing `np.int`, you may wish to use e.g. `np.int64` or `np.int32` to specify the precision. If you wish to review your current use, check the release note link for additional information.\n",
      "Deprecated in NumPy 1.20; for more details and guidance: https://numpy.org/devdocs/release/1.20.0-notes.html#deprecations\n",
      "  grid_y = np.linspace(minr, maxr, num_grid_y, dtype=np.int, endpoint=False)\n"
     ]
    }
   ],
   "source": [
    "for label_idx in range(1, np.max(gt_label)+1):\n",
    "        binary_mask = gt_label == label_idx\n",
    "\n",
    "        # extract bounding box\n",
    "        minr, minc, maxr, maxc = props[label_idx-1].bbox\n",
    "        # print(f\"{minr}, {minc}, {maxr}, {maxc},\")\n",
    "        if (maxr - minr) < 10 and (maxc - minc) < 10:\n",
    "            pass\n",
    "\n",
    "        # else if bounding box is smaller than window size, create normal annotation\n",
    "        elif (maxr - minr) < 256 and (maxc - minc) < 256:\n",
    "            pass\n",
    "\n",
    "        else:\n",
    "            print(f\"min, max: {minr}, {minc}, {maxr}, {maxc},\")\n",
    "            num_grid_x = int((maxc - minc) / (window_size * overlap)) + 1 \n",
    "            num_grid_y = int((maxr - minr) / (window_size * overlap)) + 1\n",
    "\n",
    "            print(f\"num_grid_x, y: {num_grid_x}, {num_grid_y}\")\n",
    "            if (maxc - minc) > (maxr - minr):\n",
    "                num_grid_y = 1\n",
    "            else:\n",
    "                num_grid_x = 1\n",
    "            print(f\"num_grid_x, y_af: {num_grid_x}, {num_grid_y}\")\n",
    "\n",
    "            # create grid\n",
    "            grid_x = np.linspace(minc, maxc, num_grid_x, dtype=np.int, endpoint=False)\n",
    "            grid_y = np.linspace(minr, maxr, num_grid_y, dtype=np.int, endpoint=False)\n",
    "            print(f\"grid_x: {grid_x}, grid_y: {grid_y}\")\n",
    "             \n",
    "        "
   ]
  },
  {
   "cell_type": "code",
   "execution_count": null,
   "metadata": {},
   "outputs": [],
   "source": []
  }
 ],
 "metadata": {
  "kernelspec": {
   "display_name": "chalk",
   "language": "python",
   "name": "python3"
  },
  "language_info": {
   "codemirror_mode": {
    "name": "ipython",
    "version": 3
   },
   "file_extension": ".py",
   "mimetype": "text/x-python",
   "name": "python",
   "nbconvert_exporter": "python",
   "pygments_lexer": "ipython3",
   "version": "3.8.16"
  },
  "orig_nbformat": 4
 },
 "nbformat": 4,
 "nbformat_minor": 2
}
